{
 "cells": [
  {
   "cell_type": "code",
   "execution_count": 2,
   "id": "49432dc4-0128-443c-b5c6-359a9cf89c9d",
   "metadata": {},
   "outputs": [],
   "source": [
    "import pickle\n"
   ]
  },
  {
   "cell_type": "code",
   "execution_count": 3,
   "id": "f6805634-f4f2-4774-9500-fc9b20746069",
   "metadata": {},
   "outputs": [],
   "source": [
    "load_model=pickle.load(open(\"multilinear_final.sav\",'rb'))"
   ]
  },
  {
   "cell_type": "code",
   "execution_count": 10,
   "id": "75e00b63-5891-4c87-b5a5-a1eb8780ae12",
   "metadata": {},
   "outputs": [
    {
     "name": "stdin",
     "output_type": "stream",
     "text": [
      "R&d : 66051.52\n",
      "Admin : 182645.56\n",
      "Marketing  118148.20\n",
      "State_florida 0 or 1: 1\n",
      "State_newyork 0 or 1: 0\n"
     ]
    }
   ],
   "source": [
    "rd_input=float(input(\"R&d :\"))\n",
    "admin_input=float(input('Admin :'))\n",
    "mark_input=float(input(\"Marketing \"))\n",
    "florida_input=int(input(\"State_florida 0 or 1:\"))\n",
    "newyork_input=int(input(\"State_newyork 0 or 1:\"))"
   ]
  },
  {
   "cell_type": "code",
   "execution_count": 11,
   "id": "2268f541-707c-4f38-b1e3-6d2a36103f13",
   "metadata": {},
   "outputs": [
    {
     "name": "stderr",
     "output_type": "stream",
     "text": [
      "C:\\Anaconda\\Lib\\site-packages\\sklearn\\utils\\validation.py:2739: UserWarning: X does not have valid feature names, but LinearRegression was fitted with feature names\n",
      "  warnings.warn(\n"
     ]
    }
   ],
   "source": [
    "result=load_model.predict([[rd_input,admin_input,mark_input,florida_input,newyork_input]])"
   ]
  },
  {
   "cell_type": "code",
   "execution_count": 12,
   "id": "56bf1c1d-6a1f-46a3-8970-6c73fa834851",
   "metadata": {},
   "outputs": [
    {
     "data": {
      "text/plain": [
       "array([[104282.76472172]])"
      ]
     },
     "execution_count": 12,
     "metadata": {},
     "output_type": "execute_result"
    }
   ],
   "source": [
    "result"
   ]
  },
  {
   "cell_type": "code",
   "execution_count": null,
   "id": "85bb0fb3-5354-44e2-8a74-a982fb5fb32d",
   "metadata": {},
   "outputs": [],
   "source": []
  }
 ],
 "metadata": {
  "kernelspec": {
   "display_name": "Python [conda env:base] *",
   "language": "python",
   "name": "conda-base-py"
  },
  "language_info": {
   "codemirror_mode": {
    "name": "ipython",
    "version": 3
   },
   "file_extension": ".py",
   "mimetype": "text/x-python",
   "name": "python",
   "nbconvert_exporter": "python",
   "pygments_lexer": "ipython3",
   "version": "3.13.5"
  }
 },
 "nbformat": 4,
 "nbformat_minor": 5
}
