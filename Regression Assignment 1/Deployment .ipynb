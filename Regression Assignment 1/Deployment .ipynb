{
 "cells": [
  {
   "cell_type": "code",
   "execution_count": 2,
   "id": "c7c1d119-eb47-44fc-a51c-5b50525db8d1",
   "metadata": {},
   "outputs": [],
   "source": [
    "import pickle"
   ]
  },
  {
   "cell_type": "code",
   "execution_count": 3,
   "id": "8538e300-2b3b-4a48-b6e2-0581a58aa13d",
   "metadata": {},
   "outputs": [],
   "source": [
    "load_model=pickle.load(open(\"RFfinial_model.sav\",'rb'))"
   ]
  },
  {
   "cell_type": "code",
   "execution_count": 4,
   "id": "ca4ad7e4-6eb9-4f32-8fde-038948b25233",
   "metadata": {},
   "outputs": [
    {
     "name": "stdin",
     "output_type": "stream",
     "text": [
      "AGE : 25\n",
      "BMI : 27.550\n",
      "children :  2\n",
      "sex 0 or 1: 1\n",
      "smoker 0 or 1: 0\n"
     ]
    }
   ],
   "source": [
    "age_input=int(input(\"AGE :\"))\n",
    "bmi_input=float(input('BMI :'))\n",
    "chlidren_input=int(input(\"children : \"))\n",
    "sex_input=int(input(\"sex 0 or 1:\"))\n",
    "smoker_input=int(input(\"smoker 0 or 1:\"))"
   ]
  },
  {
   "cell_type": "code",
   "execution_count": 5,
   "id": "e845081e-0ac5-45ec-bdee-8e2d35c55e9d",
   "metadata": {},
   "outputs": [],
   "source": [
    "result=load_model.predict([[age_input,bmi_input,chlidren_input,sex_input,smoker_input]])"
   ]
  },
  {
   "cell_type": "code",
   "execution_count": 6,
   "id": "ae134440-85e2-4b29-8b46-09263f72df63",
   "metadata": {},
   "outputs": [
    {
     "data": {
      "text/plain": [
       "array([16360.8071074])"
      ]
     },
     "execution_count": 6,
     "metadata": {},
     "output_type": "execute_result"
    }
   ],
   "source": [
    "result"
   ]
  },
  {
   "cell_type": "code",
   "execution_count": null,
   "id": "b5a4ff67-d335-4589-a56d-ba82435d78ef",
   "metadata": {},
   "outputs": [],
   "source": []
  }
 ],
 "metadata": {
  "kernelspec": {
   "display_name": "Python [conda env:base] *",
   "language": "python",
   "name": "conda-base-py"
  },
  "language_info": {
   "codemirror_mode": {
    "name": "ipython",
    "version": 3
   },
   "file_extension": ".py",
   "mimetype": "text/x-python",
   "name": "python",
   "nbconvert_exporter": "python",
   "pygments_lexer": "ipython3",
   "version": "3.13.5"
  }
 },
 "nbformat": 4,
 "nbformat_minor": 5
}
